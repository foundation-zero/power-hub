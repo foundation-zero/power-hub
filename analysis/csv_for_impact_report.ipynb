{
 "cells": [
  {
   "cell_type": "code",
   "execution_count": 1,
   "metadata": {},
   "outputs": [],
   "source": [
    "from dotenv import load_dotenv\n",
    "import os\n",
    "from datetime import datetime, timezone, timedelta, tzinfo\n",
    "import pandas as pd\n",
    "import fluxy as fl\n",
    "from itertools import product\n",
    "\n",
    "from analysis.analysis_functions import electric_variables, get_data, kwh_meters_rename_dict, electrical_groups_dict_inv, electrical_consumption_groups_dict_inv, electrical_consumption_groups\n",
    "\n",
    "%load_ext autoreload \n",
    "%autoreload 2\n",
    "\n",
    "load_dotenv()\n",
    "\n",
    "API_TOKEN = os.getenv(\"ANALYSIS_API_TOKEN\")"
   ]
  },
  {
   "cell_type": "code",
   "execution_count": 2,
   "metadata": {},
   "outputs": [],
   "source": [
    "start = datetime(2024,8,22,  tzinfo = timezone.utc) - timedelta(hours = 3)\n",
    "stop = datetime(2024,10,22,  tzinfo = timezone.utc) - timedelta(hours = 3)\n",
    "window_size = timedelta(days = 1)"
   ]
  },
  {
   "cell_type": "code",
   "execution_count": 5,
   "metadata": {},
   "outputs": [],
   "source": [
    "electric_data = await get_data([{\"_field\": variable} for variable in electric_variables], (start, stop), window_size, fl.WindowOperation.MEAN, API_TOKEN)\n",
    "\n",
    "electric_data.index = electric_data.index.tz_convert('Europe/Madrid')\n",
    "electric_data = electric_data.rename(columns = kwh_meters_rename_dict) # fix wrong naming in databases\n",
    "\n",
    "kwh_daily = electric_data.T.groupby({**electrical_consumption_groups_dict_inv, **electrical_groups_dict_inv}).sum().T.rename(columns = {'pv_power':'pv','grid_power':'grid'})*24/1000\n",
    "functional_consumption_groups = {\"office\":\"office\", \"workshop\":\"workshop\",\"simulator\":\"simulator\",\"kitchen_sanitary_1\":\"sanitary\",\"kitchen_sanitary_2\":\"catering\",\"center_1\":\"catering\", \"center_2\":\"events\", \"power_hub\":\"power_hub\", \"supply_box\":\"power_hub\"}\n",
    "groups = kwh_daily.T.groupby(functional_consumption_groups).sum().T\n",
    "kwh_daily = kwh_daily[['pv','grid']].join(groups).assign(total_consumed=groups.sum(1))\n",
    "electric_csv_data = kwh_daily.rename(columns = {col:col+'_kwh' for col in kwh_daily.columns})"
   ]
  },
  {
   "cell_type": "code",
   "execution_count": 37,
   "metadata": {},
   "outputs": [],
   "source": [
    "volume_variables = [\n",
    "    \"fresh_to_kitchen_flow_sensor_total_volume\",\n",
    "    \"technical_to_wash_off_flow_sensor_total_volume\",\n",
    "    \"technical_to_sanitary_flow_sensor_total_volume\"\n",
    "]\n",
    "\n",
    "volumes_data = await get_data([{\"_field\": variable} for variable in volume_variables], (start, stop), window_size, fl.WindowOperation.LAST, API_TOKEN)\n",
    "volumes_data.index = volumes_data.index.tz_convert('Europe/Madrid')\n",
    "\n",
    "daily_liters = volumes_data.diff().rename(columns = {\"fresh_to_kitchen_flow_sensor_total_volume\":\"kitchen_water_l\",\n",
    "    \"technical_to_wash_off_flow_sensor_total_volume\":\"wash_off_water_l\",\n",
    "    \"technical_to_sanitary_flow_sensor_total_volume\":\"sanitary_water_l\"})*1000\n"
   ]
  },
  {
   "cell_type": "code",
   "execution_count": 38,
   "metadata": {},
   "outputs": [],
   "source": [
    "csv_data = electric_csv_data.join(daily_liters)"
   ]
  },
  {
   "cell_type": "code",
   "execution_count": 58,
   "metadata": {},
   "outputs": [],
   "source": [
    "csv_data.to_csv('powerhub_daily_electric_water.csv')"
   ]
  }
 ],
 "metadata": {
  "kernelspec": {
   "display_name": ".venv",
   "language": "python",
   "name": "python3"
  },
  "language_info": {
   "codemirror_mode": {
    "name": "ipython",
    "version": 3
   },
   "file_extension": ".py",
   "mimetype": "text/x-python",
   "name": "python",
   "nbconvert_exporter": "python",
   "pygments_lexer": "ipython3",
   "version": "3.12.1"
  }
 },
 "nbformat": 4,
 "nbformat_minor": 2
}
